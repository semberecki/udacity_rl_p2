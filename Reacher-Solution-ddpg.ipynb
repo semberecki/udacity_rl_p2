{
 "cells": [
  {
   "cell_type": "markdown",
   "metadata": {},
   "source": [
    "# Continuous Control\n",
    "\n",
    "---\n",
    "\n",
    "In this notebook, you will learn how to use the Unity ML-Agents environment for the second project of the [Deep Reinforcement Learning Nanodegree](https://www.udacity.com/course/deep-reinforcement-learning-nanodegree--nd893) program.\n",
    "\n",
    "### 1. Start the Environment\n",
    "\n",
    "We begin by importing the necessary packages.  If the code cell below returns an error, please revisit the project instructions to double-check that you have installed [Unity ML-Agents](https://github.com/Unity-Technologies/ml-agents/blob/master/docs/Installation.md) and [NumPy](http://www.numpy.org/)."
   ]
  },
  {
   "cell_type": "code",
   "execution_count": 1,
   "metadata": {},
   "outputs": [],
   "source": [
    "from unityagents import UnityEnvironment\n",
    "import numpy as np"
   ]
  },
  {
   "cell_type": "markdown",
   "metadata": {},
   "source": [
    "Next, we will start the environment!  **_Before running the code cell below_**, change the `file_name` parameter to match the location of the Unity environment that you downloaded.\n",
    "\n",
    "- **Mac**: `\"path/to/Reacher.app\"`\n",
    "- **Windows** (x86): `\"path/to/Reacher_Windows_x86/Reacher.exe\"`\n",
    "- **Windows** (x86_64): `\"path/to/Reacher_Windows_x86_64/Reacher.exe\"`\n",
    "- **Linux** (x86): `\"path/to/Reacher_Linux/Reacher.x86\"`\n",
    "- **Linux** (x86_64): `\"path/to/Reacher_Linux/Reacher.x86_64\"`\n",
    "- **Linux** (x86, headless): `\"path/to/Reacher_Linux_NoVis/Reacher.x86\"`\n",
    "- **Linux** (x86_64, headless): `\"path/to/Reacher_Linux_NoVis/Reacher.x86_64\"`\n",
    "\n",
    "For instance, if you are using a Mac, then you downloaded `Reacher.app`.  If this file is in the same folder as the notebook, then the line below should appear as follows:\n",
    "```\n",
    "env = UnityEnvironment(file_name=\"Reacher.app\")\n",
    "```"
   ]
  },
  {
   "cell_type": "markdown",
   "metadata": {},
   "source": [
    "# Reacher 20"
   ]
  },
  {
   "cell_type": "code",
   "execution_count": 2,
   "metadata": {},
   "outputs": [
    {
     "name": "stderr",
     "output_type": "stream",
     "text": [
      "INFO:unityagents:\n",
      "'Academy' started successfully!\n",
      "Unity Academy name: Academy\n",
      "        Number of Brains: 1\n",
      "        Number of External Brains : 1\n",
      "        Lesson number : 0\n",
      "        Reset Parameters :\n",
      "\t\tgoal_speed -> 1.0\n",
      "\t\tgoal_size -> 5.0\n",
      "Unity brain name: ReacherBrain\n",
      "        Number of Visual Observations (per agent): 0\n",
      "        Vector Observation space type: continuous\n",
      "        Vector Observation space size (per agent): 33\n",
      "        Number of stacked Vector Observation: 1\n",
      "        Vector Action space type: continuous\n",
      "        Vector Action space size (per agent): 4\n",
      "        Vector Action descriptions: , , , \n"
     ]
    }
   ],
   "source": [
    "env = UnityEnvironment(file_name='./Reacher_Linux20/Reacher.x86_64')"
   ]
  },
  {
   "cell_type": "markdown",
   "metadata": {},
   "source": [
    "Environments contain **_brains_** which are responsible for deciding the actions of their associated agents. Here we check for the first brain available, and set it as the default brain we will be controlling from Python."
   ]
  },
  {
   "cell_type": "code",
   "execution_count": 3,
   "metadata": {},
   "outputs": [],
   "source": [
    "# get the default brain\n",
    "brain_name = env.brain_names[0]\n",
    "brain = env.brains[brain_name]"
   ]
  },
  {
   "cell_type": "markdown",
   "metadata": {},
   "source": [
    "### 2. Examine the State and Action Spaces\n",
    "\n",
    "In this environment, a double-jointed arm can move to target locations. A reward of `+0.1` is provided for each step that the agent's hand is in the goal location. Thus, the goal of your agent is to maintain its position at the target location for as many time steps as possible.\n",
    "\n",
    "The observation space consists of `33` variables corresponding to position, rotation, velocity, and angular velocities of the arm.  Each action is a vector with four numbers, corresponding to torque applicable to two joints.  Every entry in the action vector must be a number between `-1` and `1`.\n",
    "\n",
    "Run the code cell below to print some information about the environment."
   ]
  },
  {
   "cell_type": "code",
   "execution_count": 4,
   "metadata": {},
   "outputs": [
    {
     "name": "stdout",
     "output_type": "stream",
     "text": [
      "Number of agents: 20\n",
      "Size of each action: 4\n",
      "There are 20 agents. Each observes a state with length: 33\n",
      "The state for the first agent looks like: [ 0.00000000e+00 -4.00000000e+00  0.00000000e+00  1.00000000e+00\n",
      " -0.00000000e+00 -0.00000000e+00 -4.37113883e-08  0.00000000e+00\n",
      "  0.00000000e+00  0.00000000e+00  0.00000000e+00  0.00000000e+00\n",
      "  0.00000000e+00  0.00000000e+00 -1.00000000e+01  0.00000000e+00\n",
      "  1.00000000e+00 -0.00000000e+00 -0.00000000e+00 -4.37113883e-08\n",
      "  0.00000000e+00  0.00000000e+00  0.00000000e+00  0.00000000e+00\n",
      "  0.00000000e+00  0.00000000e+00  5.75471878e+00 -1.00000000e+00\n",
      "  5.55726624e+00  0.00000000e+00  1.00000000e+00  0.00000000e+00\n",
      " -1.68164849e-01]\n"
     ]
    }
   ],
   "source": [
    "# reset the environment\n",
    "env_info = env.reset(train_mode=True)[brain_name]\n",
    "\n",
    "# number of agents\n",
    "num_agents = len(env_info.agents)\n",
    "print('Number of agents:', num_agents)\n",
    "\n",
    "# size of each action\n",
    "action_size = brain.vector_action_space_size\n",
    "print('Size of each action:', action_size)\n",
    "\n",
    "# examine the state space \n",
    "states = env_info.vector_observations\n",
    "state_size = states.shape[1]\n",
    "print('There are {} agents. Each observes a state with length: {}'.format(states.shape[0], state_size))\n",
    "print('The state for the first agent looks like:', states[0])"
   ]
  },
  {
   "cell_type": "markdown",
   "metadata": {},
   "source": [
    "### 3. Solution"
   ]
  },
  {
   "cell_type": "code",
   "execution_count": 5,
   "metadata": {},
   "outputs": [
    {
     "name": "stdout",
     "output_type": "stream",
     "text": [
      "Episode 1\tAverage Score: 0.66\tScore: 0.66 eps 1.00\n",
      "Episode 2\tAverage Score: 0.66\tScore: 0.65 eps 1.00\n",
      "Episode 3\tAverage Score: 0.73\tScore: 0.89 eps 1.00\n",
      "Episode 4\tAverage Score: 0.77\tScore: 0.88 eps 1.00\n",
      "Episode 5\tAverage Score: 0.79\tScore: 0.85 eps 1.00\n",
      "Episode 6\tAverage Score: 0.81\tScore: 0.91 eps 0.99\n",
      "Episode 7\tAverage Score: 0.84\tScore: 1.03 eps 0.99\n",
      "Episode 8\tAverage Score: 0.95\tScore: 1.77 eps 0.99\n",
      "Episode 9\tAverage Score: 0.98\tScore: 1.23 eps 0.99\n",
      "Episode 10\tAverage Score: 1.06\tScore: 1.77 eps 0.99\n",
      "Episode 11\tAverage Score: 1.11\tScore: 1.58 eps 0.99\n",
      "Episode 12\tAverage Score: 1.18\tScore: 1.96 eps 0.99\n",
      "Episode 13\tAverage Score: 1.30\tScore: 2.76 eps 0.99\n",
      "Episode 14\tAverage Score: 1.44\tScore: 3.22 eps 0.99\n",
      "Episode 15\tAverage Score: 1.60\tScore: 3.87 eps 0.99\n",
      "Episode 16\tAverage Score: 1.81\tScore: 4.87 eps 0.98\n",
      "Episode 17\tAverage Score: 2.03\tScore: 5.63 eps 0.98\n",
      "Episode 18\tAverage Score: 2.32\tScore: 7.23 eps 0.98\n",
      "Episode 19\tAverage Score: 2.68\tScore: 9.17 eps 0.98\n",
      "Episode 20\tAverage Score: 2.98\tScore: 8.73 eps 0.98\n",
      "Episode 21\tAverage Score: 3.33\tScore: 10.18 eps 0.98\n",
      "Episode 22\tAverage Score: 3.66\tScore: 10.77 eps 0.98\n",
      "Episode 23\tAverage Score: 4.05\tScore: 12.51 eps 0.98\n",
      "Episode 24\tAverage Score: 4.42\tScore: 12.85 eps 0.98\n",
      "Episode 25\tAverage Score: 4.78\tScore: 13.52 eps 0.98\n",
      "Episode 26\tAverage Score: 5.15\tScore: 14.46 eps 0.97\n",
      "Episode 27\tAverage Score: 5.53\tScore: 15.27 eps 0.97\n",
      "Episode 28\tAverage Score: 5.93\tScore: 16.94 eps 0.97\n",
      "Episode 29\tAverage Score: 6.34\tScore: 17.77 eps 0.97\n",
      "Episode 30\tAverage Score: 6.64\tScore: 15.38 eps 0.97\n",
      "Episode 31\tAverage Score: 6.99\tScore: 17.28 eps 0.97\n",
      "Episode 32\tAverage Score: 7.36\tScore: 18.84 eps 0.97\n",
      "Episode 33\tAverage Score: 7.77\tScore: 20.96 eps 0.97\n",
      "Episode 34\tAverage Score: 8.16\tScore: 20.99 eps 0.97\n",
      "Episode 35\tAverage Score: 8.55\tScore: 22.03 eps 0.97\n",
      "Episode 36\tAverage Score: 8.94\tScore: 22.38 eps 0.96\n",
      "Episode 37\tAverage Score: 9.34\tScore: 23.72 eps 0.96\n",
      "Episode 38\tAverage Score: 9.75\tScore: 25.15 eps 0.96\n",
      "Episode 39\tAverage Score: 10.14\tScore: 24.79 eps 0.96\n",
      "Episode 40\tAverage Score: 10.52\tScore: 25.48 eps 0.96\n",
      "Episode 41\tAverage Score: 10.88\tScore: 25.17 eps 0.96\n",
      "Episode 42\tAverage Score: 11.27\tScore: 27.31 eps 0.96\n",
      "Episode 43\tAverage Score: 11.67\tScore: 28.44 eps 0.96\n",
      "Episode 44\tAverage Score: 12.01\tScore: 26.44 eps 0.96\n",
      "Episode 45\tAverage Score: 12.35\tScore: 27.63 eps 0.96\n",
      "Episode 46\tAverage Score: 12.73\tScore: 29.59 eps 0.96\n",
      "Episode 47\tAverage Score: 13.12\tScore: 30.92 eps 0.95\n",
      "Episode 48\tAverage Score: 13.50\tScore: 31.39 eps 0.95\n",
      "Episode 49\tAverage Score: 13.86\tScore: 31.30 eps 0.95\n",
      "Episode 50\tAverage Score: 14.23\tScore: 32.50 eps 0.95\n",
      "Episode 51\tAverage Score: 14.61\tScore: 33.26 eps 0.95\n",
      "Episode 52\tAverage Score: 14.97\tScore: 33.49 eps 0.95\n",
      "Episode 53\tAverage Score: 15.30\tScore: 32.71 eps 0.95\n",
      "Episode 54\tAverage Score: 15.62\tScore: 32.63 eps 0.95\n",
      "Episode 55\tAverage Score: 15.96\tScore: 34.37 eps 0.95\n",
      "Episode 56\tAverage Score: 16.29\tScore: 34.06 eps 0.95\n",
      "Episode 57\tAverage Score: 16.61\tScore: 34.40 eps 0.94\n",
      "Episode 58\tAverage Score: 16.93\tScore: 35.48 eps 0.94\n",
      "Episode 59\tAverage Score: 17.26\tScore: 36.53 eps 0.94\n",
      "Episode 60\tAverage Score: 17.59\tScore: 36.74 eps 0.94\n",
      "Episode 61\tAverage Score: 17.91\tScore: 37.16 eps 0.94\n",
      "Episode 62\tAverage Score: 18.21\tScore: 36.71 eps 0.94\n",
      "Episode 63\tAverage Score: 18.51\tScore: 37.25 eps 0.94\n",
      "Episode 64\tAverage Score: 18.79\tScore: 36.34 eps 0.94\n",
      "Episode 65\tAverage Score: 19.07\tScore: 37.14 eps 0.94\n",
      "Episode 66\tAverage Score: 19.34\tScore: 36.76 eps 0.94\n",
      "Episode 67\tAverage Score: 19.61\tScore: 37.10 eps 0.94\n",
      "Episode 68\tAverage Score: 19.87\tScore: 37.37 eps 0.93\n",
      "Episode 69\tAverage Score: 20.13\tScore: 37.90 eps 0.93\n",
      "Episode 70\tAverage Score: 20.37\tScore: 36.88 eps 0.93\n",
      "Episode 71\tAverage Score: 20.62\tScore: 37.79 eps 0.93\n",
      "Episode 72\tAverage Score: 20.86\tScore: 38.31 eps 0.93\n",
      "Episode 73\tAverage Score: 21.10\tScore: 38.42 eps 0.93\n",
      "Episode 74\tAverage Score: 21.33\tScore: 38.35 eps 0.93\n",
      "Episode 75\tAverage Score: 21.55\tScore: 37.85 eps 0.93\n",
      "Episode 76\tAverage Score: 21.78\tScore: 38.33 eps 0.93\n",
      "Episode 77\tAverage Score: 21.99\tScore: 37.92 eps 0.93\n",
      "Episode 78\tAverage Score: 22.19\tScore: 38.08 eps 0.92\n",
      "Episode 79\tAverage Score: 22.40\tScore: 38.59 eps 0.92\n",
      "Episode 80\tAverage Score: 22.60\tScore: 38.75 eps 0.92\n",
      "Episode 81\tAverage Score: 22.80\tScore: 38.37 eps 0.92\n",
      "Episode 82\tAverage Score: 22.98\tScore: 38.05 eps 0.92\n",
      "Episode 83\tAverage Score: 23.18\tScore: 38.89 eps 0.92\n",
      "Episode 84\tAverage Score: 23.36\tScore: 38.65 eps 0.92\n",
      "Episode 85\tAverage Score: 23.54\tScore: 38.78 eps 0.92\n",
      "Episode 86\tAverage Score: 23.72\tScore: 38.74 eps 0.92\n",
      "Episode 87\tAverage Score: 23.88\tScore: 37.97 eps 0.92\n",
      "Episode 88\tAverage Score: 24.05\tScore: 38.73 eps 0.92\n",
      "Episode 89\tAverage Score: 24.21\tScore: 38.53 eps 0.91\n",
      "Episode 90\tAverage Score: 24.37\tScore: 38.22 eps 0.91\n",
      "Episode 91\tAverage Score: 24.53\tScore: 38.85 eps 0.91\n",
      "Episode 92\tAverage Score: 24.67\tScore: 37.83 eps 0.91\n",
      "Episode 93\tAverage Score: 24.83\tScore: 38.86 eps 0.91\n",
      "Episode 94\tAverage Score: 24.97\tScore: 38.18 eps 0.91\n",
      "Episode 95\tAverage Score: 25.12\tScore: 39.02 eps 0.91\n",
      "Episode 96\tAverage Score: 25.25\tScore: 38.36 eps 0.91\n",
      "Episode 97\tAverage Score: 25.39\tScore: 38.61 eps 0.91\n",
      "Episode 98\tAverage Score: 25.53\tScore: 39.00 eps 0.91\n",
      "Episode 99\tAverage Score: 25.66\tScore: 38.59 eps 0.91\n",
      "Episode 100\tAverage Score: 25.79\tScore: 38.41 eps 0.90\n",
      "Episode 101\tAverage Score: 26.17\tScore: 38.47 eps 0.90\n",
      "Episode 102\tAverage Score: 26.55\tScore: 38.62 eps 0.90\n",
      "Episode 103\tAverage Score: 26.93\tScore: 38.82 eps 0.90\n",
      "Episode 104\tAverage Score: 27.30\tScore: 38.03 eps 0.90\n",
      "Episode 105\tAverage Score: 27.68\tScore: 38.61 eps 0.90\n",
      "Episode 106\tAverage Score: 28.05\tScore: 37.98 eps 0.90\n",
      "Episode 107\tAverage Score: 28.41\tScore: 37.53 eps 0.90\n",
      "Episode 108\tAverage Score: 28.78\tScore: 38.32 eps 0.90\n",
      "Episode 109\tAverage Score: 29.15\tScore: 38.62 eps 0.90\n",
      "Episode 110\tAverage Score: 29.51\tScore: 38.02 eps 0.90\n",
      "Episode 111\tAverage Score: 29.88\tScore: 38.14 eps 0.89\n",
      "Episode 112\tAverage Score: 30.25\tScore: 38.74 eps 0.89\n",
      "\n",
      "Environment solved in 12 episodes!\tAverage Score: 30.25\n"
     ]
    },
    {
     "ename": "NameError",
     "evalue": "name 'plot_results' is not defined",
     "output_type": "error",
     "traceback": [
      "\u001b[0;31m\u001b[0m",
      "\u001b[0;31mNameError\u001b[0mTraceback (most recent call last)",
      "\u001b[0;32m<ipython-input-5-c4b4aeeaa0db>\u001b[0m in \u001b[0;36m<module>\u001b[0;34m\u001b[0m\n\u001b[1;32m      3\u001b[0m \u001b[0magent\u001b[0m \u001b[0;34m=\u001b[0m \u001b[0mAgent\u001b[0m\u001b[0;34m(\u001b[0m\u001b[0mstate_size\u001b[0m\u001b[0;34m=\u001b[0m\u001b[0mstate_size\u001b[0m\u001b[0;34m,\u001b[0m \u001b[0maction_size\u001b[0m\u001b[0;34m=\u001b[0m\u001b[0maction_size\u001b[0m\u001b[0;34m,\u001b[0m \u001b[0mrandom_seed\u001b[0m\u001b[0;34m=\u001b[0m\u001b[0;36m0\u001b[0m\u001b[0;34m)\u001b[0m\u001b[0;34m\u001b[0m\u001b[0;34m\u001b[0m\u001b[0m\n\u001b[1;32m      4\u001b[0m \u001b[0mscores\u001b[0m \u001b[0;34m=\u001b[0m \u001b[0mddpg\u001b[0m\u001b[0;34m(\u001b[0m\u001b[0menv\u001b[0m\u001b[0;34m,\u001b[0m \u001b[0magent\u001b[0m\u001b[0;34m,\u001b[0m \u001b[0mn_episodes\u001b[0m\u001b[0;34m=\u001b[0m\u001b[0;36m1000\u001b[0m\u001b[0;34m,\u001b[0m \u001b[0mcheckpoints_dir\u001b[0m\u001b[0;34m=\u001b[0m\u001b[0;34m\"checkpoints/ddpg\"\u001b[0m\u001b[0;34m)\u001b[0m\u001b[0;34m\u001b[0m\u001b[0;34m\u001b[0m\u001b[0m\n\u001b[0;32m----> 5\u001b[0;31m \u001b[0mplot_results\u001b[0m\u001b[0;34m(\u001b[0m\u001b[0mscores\u001b[0m\u001b[0;34m)\u001b[0m\u001b[0;34m\u001b[0m\u001b[0;34m\u001b[0m\u001b[0m\n\u001b[0m",
      "\u001b[0;31mNameError\u001b[0m: name 'plot_results' is not defined"
     ]
    }
   ],
   "source": [
    "from ddpg_agent import Agent\n",
    "from ddpg_loop import ddpg\n",
    "agent = Agent(state_size=state_size, action_size=action_size, random_seed=0)\n",
    "scores = ddpg(env, agent, n_episodes=1000, checkpoints_dir=\"checkpoints/ddpg\")"
   ]
  },
  {
   "cell_type": "markdown",
   "metadata": {},
   "source": [
    "When finished, you can close the environment."
   ]
  },
  {
   "cell_type": "code",
   "execution_count": 6,
   "metadata": {},
   "outputs": [
    {
     "name": "stderr",
     "output_type": "stream",
     "text": [
      "INFO:matplotlib.font_manager:Generating new fontManager, this may take some time...\n"
     ]
    },
    {
     "data": {
      "image/png": "[encoded data removed]",
      "text/plain": [
       "<Figure size 432x288 with 1 Axes>"
      ]
     },
     "metadata": {
      "needs_background": "light"
     },
     "output_type": "display_data"
    }
   ],
   "source": [
    "import matplotlib.pyplot as plt\n",
    "fig = plt.figure()\n",
    "ax = fig.add_subplot(111)\n",
    "plt.plot(np.arange(1, len(scores)+1), scores)\n",
    "plt.ylabel('Score')\n",
    "plt.xlabel('Episode #')\n",
    "plt.show()"
   ]
  },
  {
   "cell_type": "code",
   "execution_count": 9,
   "metadata": {},
   "outputs": [
    {
     "name": "stdout",
     "output_type": "stream",
     "text": [
      "Episode 1\tAverage Score: 39.45\tScore: 39.45 eps 0.00\n",
      "Episode 2\tAverage Score: 39.49\tScore: 39.53 eps 0.00\n",
      "Episode 3\tAverage Score: 39.43\tScore: 39.32 eps 0.00\n",
      "Episode 4\tAverage Score: 39.46\tScore: 39.54 eps 0.00\n",
      "Episode 5\tAverage Score: 39.47\tScore: 39.49 eps 0.00\n",
      "Episode 6\tAverage Score: 39.48\tScore: 39.54 eps 0.00\n",
      "Episode 7\tAverage Score: 39.49\tScore: 39.52 eps 0.00\n",
      "Episode 8\tAverage Score: 39.46\tScore: 39.32 eps 0.00\n",
      "Episode 9\tAverage Score: 39.47\tScore: 39.54 eps 0.00\n",
      "Episode 10\tAverage Score: 39.47\tScore: 39.48 eps 0.00\n",
      "Episode 11\tAverage Score: 39.48\tScore: 39.52 eps 0.00\n",
      "Episode 12\tAverage Score: 39.48\tScore: 39.51 eps 0.00\n",
      "Episode 13\tAverage Score: 39.48\tScore: 39.49 eps 0.00\n",
      "Episode 14\tAverage Score: 39.48\tScore: 39.51 eps 0.00\n",
      "Episode 15\tAverage Score: 39.49\tScore: 39.54 eps 0.00\n",
      "Episode 16\tAverage Score: 39.49\tScore: 39.54 eps 0.00\n",
      "Episode 17\tAverage Score: 39.49\tScore: 39.51 eps 0.00\n",
      "Episode 18\tAverage Score: 39.49\tScore: 39.55 eps 0.00\n",
      "Episode 19\tAverage Score: 39.49\tScore: 39.32 eps 0.00\n",
      "Episode 20\tAverage Score: 39.48\tScore: 39.47 eps 0.00\n",
      "Episode 21\tAverage Score: 39.49\tScore: 39.53 eps 0.00\n",
      "Episode 22\tAverage Score: 39.49\tScore: 39.52 eps 0.00\n",
      "Episode 23\tAverage Score: 39.49\tScore: 39.55 eps 0.00\n",
      "Episode 24\tAverage Score: 39.49\tScore: 39.43 eps 0.00\n",
      "Episode 25\tAverage Score: 39.49\tScore: 39.55 eps 0.00\n",
      "Episode 26\tAverage Score: 39.49\tScore: 39.55 eps 0.00\n",
      "Episode 27\tAverage Score: 39.50\tScore: 39.54 eps 0.00\n",
      "Episode 28\tAverage Score: 39.50\tScore: 39.53 eps 0.00\n",
      "Episode 29\tAverage Score: 39.50\tScore: 39.54 eps 0.00\n",
      "Episode 30\tAverage Score: 39.50\tScore: 39.47 eps 0.00\n",
      "Episode 31\tAverage Score: 39.50\tScore: 39.49 eps 0.00\n",
      "Episode 32\tAverage Score: 39.50\tScore: 39.52 eps 0.00\n",
      "Episode 33\tAverage Score: 39.49\tScore: 39.34 eps 0.00\n",
      "Episode 34\tAverage Score: 39.49\tScore: 39.55 eps 0.00\n",
      "Episode 35\tAverage Score: 39.49\tScore: 39.49 eps 0.00\n",
      "Episode 36\tAverage Score: 39.50\tScore: 39.55 eps 0.00\n",
      "Episode 37\tAverage Score: 39.50\tScore: 39.53 eps 0.00\n",
      "Episode 38\tAverage Score: 39.50\tScore: 39.47 eps 0.00\n",
      "Episode 39\tAverage Score: 39.50\tScore: 39.54 eps 0.00\n",
      "Episode 40\tAverage Score: 39.50\tScore: 39.53 eps 0.00\n",
      "Episode 41\tAverage Score: 39.50\tScore: 39.51 eps 0.00\n",
      "Episode 42\tAverage Score: 39.50\tScore: 39.47 eps 0.00\n",
      "Episode 43\tAverage Score: 39.50\tScore: 39.51 eps 0.00\n",
      "Episode 44\tAverage Score: 39.50\tScore: 39.52 eps 0.00\n",
      "Episode 45\tAverage Score: 39.50\tScore: 39.52 eps 0.00\n",
      "Episode 46\tAverage Score: 39.50\tScore: 39.53 eps 0.00\n",
      "Episode 47\tAverage Score: 39.50\tScore: 39.54 eps 0.00\n",
      "Episode 48\tAverage Score: 39.50\tScore: 39.57 eps 0.00\n",
      "Episode 49\tAverage Score: 39.50\tScore: 39.56 eps 0.00\n",
      "Episode 50\tAverage Score: 39.50\tScore: 39.56 eps 0.00\n",
      "Episode 51\tAverage Score: 39.50\tScore: 39.52 eps 0.00\n",
      "Episode 52\tAverage Score: 39.50\tScore: 39.52 eps 0.00\n",
      "Episode 53\tAverage Score: 39.51\tScore: 39.54 eps 0.00\n",
      "Episode 54\tAverage Score: 39.51\tScore: 39.50 eps 0.00\n",
      "Episode 55\tAverage Score: 39.51\tScore: 39.53 eps 0.00\n",
      "Episode 56\tAverage Score: 39.51\tScore: 39.50 eps 0.00\n",
      "Episode 57\tAverage Score: 39.51\tScore: 39.52 eps 0.00\n",
      "Episode 58\tAverage Score: 39.51\tScore: 39.53 eps 0.00\n",
      "Episode 59\tAverage Score: 39.51\tScore: 39.56 eps 0.00\n",
      "Episode 60\tAverage Score: 39.51\tScore: 39.52 eps 0.00\n",
      "Episode 61\tAverage Score: 39.51\tScore: 39.56 eps 0.00\n",
      "Episode 62\tAverage Score: 39.51\tScore: 39.55 eps 0.00\n",
      "Episode 63\tAverage Score: 39.51\tScore: 39.51 eps 0.00\n",
      "Episode 64\tAverage Score: 39.51\tScore: 39.52 eps 0.00\n",
      "Episode 65\tAverage Score: 39.51\tScore: 39.54 eps 0.00\n",
      "Episode 66\tAverage Score: 39.51\tScore: 39.52 eps 0.00\n",
      "Episode 67\tAverage Score: 39.51\tScore: 39.48 eps 0.00\n",
      "Episode 68\tAverage Score: 39.51\tScore: 39.53 eps 0.00\n",
      "Episode 69\tAverage Score: 39.51\tScore: 39.53 eps 0.00\n",
      "Episode 70\tAverage Score: 39.51\tScore: 39.58 eps 0.00\n",
      "Episode 71\tAverage Score: 39.51\tScore: 39.47 eps 0.00\n",
      "Episode 72\tAverage Score: 39.51\tScore: 39.49 eps 0.00\n",
      "Episode 73\tAverage Score: 39.51\tScore: 39.56 eps 0.00\n",
      "Episode 74\tAverage Score: 39.51\tScore: 39.55 eps 0.00\n",
      "Episode 75\tAverage Score: 39.51\tScore: 39.47 eps 0.00\n",
      "Episode 76\tAverage Score: 39.51\tScore: 39.55 eps 0.00\n",
      "Episode 77\tAverage Score: 39.51\tScore: 39.52 eps 0.00\n",
      "Episode 78\tAverage Score: 39.51\tScore: 39.54 eps 0.00\n",
      "Episode 79\tAverage Score: 39.51\tScore: 39.54 eps 0.00\n",
      "Episode 80\tAverage Score: 39.51\tScore: 39.52 eps 0.00\n",
      "Episode 81\tAverage Score: 39.51\tScore: 39.54 eps 0.00\n",
      "Episode 82\tAverage Score: 39.51\tScore: 39.53 eps 0.00\n",
      "Episode 83\tAverage Score: 39.51\tScore: 39.47 eps 0.00\n",
      "Episode 84\tAverage Score: 39.51\tScore: 39.48 eps 0.00\n",
      "Episode 85\tAverage Score: 39.51\tScore: 39.49 eps 0.00\n",
      "Episode 86\tAverage Score: 39.51\tScore: 39.57 eps 0.00\n",
      "Episode 87\tAverage Score: 39.51\tScore: 39.51 eps 0.00\n",
      "Episode 88\tAverage Score: 39.51\tScore: 39.56 eps 0.00\n",
      "Episode 89\tAverage Score: 39.51\tScore: 39.47 eps 0.00\n",
      "Episode 90\tAverage Score: 39.51\tScore: 39.49 eps 0.00\n",
      "Episode 91\tAverage Score: 39.51\tScore: 39.54 eps 0.00\n",
      "Episode 92\tAverage Score: 39.51\tScore: 39.52 eps 0.00\n",
      "Episode 93\tAverage Score: 39.51\tScore: 39.50 eps 0.00\n",
      "Episode 94\tAverage Score: 39.51\tScore: 39.55 eps 0.00\n",
      "Episode 95\tAverage Score: 39.51\tScore: 39.49 eps 0.00\n",
      "Episode 96\tAverage Score: 39.51\tScore: 39.57 eps 0.00\n",
      "Episode 97\tAverage Score: 39.51\tScore: 39.50 eps 0.00\n",
      "Episode 98\tAverage Score: 39.51\tScore: 39.55 eps 0.00\n",
      "Episode 99\tAverage Score: 39.51\tScore: 39.53 eps 0.00\n",
      "Episode 100\tAverage Score: 39.51\tScore: 39.53 eps 0.00\n"
     ]
    }
   ],
   "source": [
    "import torch\n",
    "from ddpg_agent import Agent\n",
    "from ddpg_loop import ddpg\n",
    "actor_path='checkpoints/ddpg/112_checkpoint_actor_agents_20_solved.pth'\n",
    "critic_path='checkpoints/ddpg/112_checkpoint_critic_agents_20_solved.pth'\n",
    "\n",
    "agent_eval = Agent(state_size=state_size, action_size=action_size, random_seed=0)\n",
    "agent_eval.actor_local.load_state_dict(torch.load(actor_path))\n",
    "agent_eval.critic_local.load_state_dict(torch.load(critic_path))\n",
    "scores_eval_checkpoint = ddpg(env, agent_eval,train_mode=False,update_network=False,n_episodes=100, score_list_len=100)"
   ]
  },
  {
   "cell_type": "code",
   "execution_count": 11,
   "metadata": {},
   "outputs": [
    {
     "data": {
      "image/png": "[encoded data removed]",
      "text/plain": [
       "<Figure size 432x288 with 1 Axes>"
      ]
     },
     "metadata": {
      "needs_background": "light"
     },
     "output_type": "display_data"
    }
   ],
   "source": [
    "from main import plot_results\n",
    "plot_results(scores_eval_checkpoint)"
   ]
  },
  {
   "cell_type": "code",
   "execution_count": null,
   "metadata": {},
   "outputs": [],
   "source": [
    "env.close()"
   ]
  },
  {
   "cell_type": "markdown",
   "metadata": {},
   "source": [
    "# Reacher 1"
   ]
  },
  {
   "cell_type": "code",
   "execution_count": 1,
   "metadata": {},
   "outputs": [
    {
     "name": "stderr",
     "output_type": "stream",
     "text": [
      "INFO:unityagents:\n",
      "'Academy' started successfully!\n",
      "Unity Academy name: Academy\n",
      "        Number of Brains: 1\n",
      "        Number of External Brains : 1\n",
      "        Lesson number : 0\n",
      "        Reset Parameters :\n",
      "\t\tgoal_size -> 5.0\n",
      "\t\tgoal_speed -> 1.0\n",
      "Unity brain name: ReacherBrain\n",
      "        Number of Visual Observations (per agent): 0\n",
      "        Vector Observation space type: continuous\n",
      "        Vector Observation space size (per agent): 33\n",
      "        Number of stacked Vector Observation: 1\n",
      "        Vector Action space type: continuous\n",
      "        Vector Action space size (per agent): 4\n",
      "        Vector Action descriptions: , , , \n"
     ]
    }
   ],
   "source": [
    "from unityagents import UnityEnvironment\n",
    "import numpy as np\n",
    "env = UnityEnvironment(file_name='./Reacher_Linux/Reacher.x86_64')"
   ]
  },
  {
   "cell_type": "code",
   "execution_count": 2,
   "metadata": {},
   "outputs": [],
   "source": [
    "# get the default brain\n",
    "brain_name = env.brain_names[0]\n",
    "brain = env.brains[brain_name]"
   ]
  },
  {
   "cell_type": "code",
   "execution_count": 3,
   "metadata": {},
   "outputs": [
    {
     "name": "stdout",
     "output_type": "stream",
     "text": [
      "Number of agents: 1\n",
      "Size of each action: 4\n",
      "There are 1 agents. Each observes a state with length: 33\n",
      "The state for the first agent looks like: [ 0.00000000e+00 -4.00000000e+00  0.00000000e+00  1.00000000e+00\n",
      " -0.00000000e+00 -0.00000000e+00 -4.37113883e-08  0.00000000e+00\n",
      "  0.00000000e+00  0.00000000e+00  0.00000000e+00  0.00000000e+00\n",
      "  0.00000000e+00  0.00000000e+00 -1.00000000e+01  0.00000000e+00\n",
      "  1.00000000e+00 -0.00000000e+00 -0.00000000e+00 -4.37113883e-08\n",
      "  0.00000000e+00  0.00000000e+00  0.00000000e+00  0.00000000e+00\n",
      "  0.00000000e+00  0.00000000e+00  5.75471878e+00 -1.00000000e+00\n",
      "  5.55726671e+00  0.00000000e+00  1.00000000e+00  0.00000000e+00\n",
      " -1.68164849e-01]\n"
     ]
    }
   ],
   "source": [
    "# reset the environment\n",
    "env_info = env.reset(train_mode=True)[brain_name]\n",
    "\n",
    "# number of agents\n",
    "num_agents = len(env_info.agents)\n",
    "print('Number of agents:', num_agents)\n",
    "\n",
    "# size of each action\n",
    "action_size = brain.vector_action_space_size\n",
    "print('Size of each action:', action_size)\n",
    "\n",
    "# examine the state space \n",
    "states = env_info.vector_observations\n",
    "state_size = states.shape[1]\n",
    "print('There are {} agents. Each observes a state with length: {}'.format(states.shape[0], state_size))\n",
    "print('The state for the first agent looks like:', states[0])"
   ]
  },
  {
   "cell_type": "code",
   "execution_count": 4,
   "metadata": {},
   "outputs": [
    {
     "name": "stdout",
     "output_type": "stream",
     "text": [
      "Episode 10\tAverage Score: 0.58\tScore: 0.50 eps 0.99\n",
      "Episode 20\tAverage Score: 1.11\tScore: 2.17 eps 0.98\n",
      "Episode 30\tAverage Score: 1.67\tScore: 2.67 eps 0.97\n",
      "Episode 40\tAverage Score: 2.29\tScore: 7.27 eps 0.96\n",
      "Episode 50\tAverage Score: 2.93\tScore: 3.35 eps 0.955\n",
      "Episode 60\tAverage Score: 3.68\tScore: 7.47 eps 0.944\n",
      "Episode 70\tAverage Score: 4.45\tScore: 12.94 eps 0.93\n",
      "Episode 80\tAverage Score: 5.39\tScore: 11.86 eps 0.92\n",
      "Episode 90\tAverage Score: 6.35\tScore: 16.80 eps 0.91\n",
      "Episode 100\tAverage Score: 7.21\tScore: 16.62 eps 0.90\n",
      "Episode 110\tAverage Score: 8.94\tScore: 24.56 eps 0.90\n",
      "Episode 120\tAverage Score: 10.63\tScore: 24.12 eps 0.89\n",
      "Episode 130\tAverage Score: 12.89\tScore: 20.65 eps 0.88\n",
      "Episode 140\tAverage Score: 14.92\tScore: 24.71 eps 0.87\n",
      "Episode 150\tAverage Score: 17.27\tScore: 29.95 eps 0.86\n",
      "Episode 160\tAverage Score: 19.43\tScore: 24.48 eps 0.85\n",
      "Episode 170\tAverage Score: 21.77\tScore: 35.01 eps 0.84\n",
      "Episode 180\tAverage Score: 23.90\tScore: 29.88 eps 0.84\n",
      "Episode 190\tAverage Score: 26.07\tScore: 35.96 eps 0.83\n",
      "Episode 200\tAverage Score: 28.02\tScore: 37.12 eps 0.82\n",
      "Episode 210\tAverage Score: 29.48\tScore: 27.11 eps 0.81\n",
      "Episode 214\tAverage Score: 30.10\tScore: 36.83 eps 0.81\n",
      "Environment solved in 114 episodes!\tAverage Score: 30.10\n"
     ]
    }
   ],
   "source": [
    "from ddpg_agent import Agent\n",
    "from ddpg_loop import ddpg\n",
    "agent = Agent(state_size=state_size, action_size=action_size, random_seed=0)\n",
    "scores = ddpg(env, agent, n_episodes=1000, checkpoints_dir=\"checkpoints/ddpg\",  display_frequency=10)"
   ]
  },
  {
   "cell_type": "code",
   "execution_count": 5,
   "metadata": {},
   "outputs": [
    {
     "name": "stderr",
     "output_type": "stream",
     "text": [
      "INFO:matplotlib.font_manager:Generating new fontManager, this may take some time...\n"
     ]
    },
    {
     "data": {
      "image/png": "[encoded data removed]",
      "text/plain": [
       "<Figure size 432x288 with 1 Axes>"
      ]
     },
     "metadata": {
      "needs_background": "light"
     },
     "output_type": "display_data"
    }
   ],
   "source": [
    "import matplotlib.pyplot as plt\n",
    "fig = plt.figure()\n",
    "ax = fig.add_subplot(111)\n",
    "plt.plot(np.arange(1, len(scores)+1), scores)\n",
    "plt.ylabel('Score')\n",
    "plt.xlabel('Episode #')\n",
    "plt.show()"
   ]
  },
  {
   "cell_type": "code",
   "execution_count": 6,
   "metadata": {},
   "outputs": [
    {
     "name": "stdout",
     "output_type": "stream",
     "text": [
      "Episode 1\tAverage Score: 37.94\tScore: 37.94 eps 0.00\n",
      "Episode 2\tAverage Score: 38.66\tScore: 39.38 eps 0.00\n",
      "Episode 3\tAverage Score: 38.84\tScore: 39.20 eps 0.00\n",
      "Episode 4\tAverage Score: 36.60\tScore: 29.88 eps 0.00\n",
      "Episode 5\tAverage Score: 37.15\tScore: 39.37 eps 0.00\n",
      "Episode 6\tAverage Score: 37.53\tScore: 39.39 eps 0.00\n",
      "Episode 7\tAverage Score: 37.82\tScore: 39.60 eps 0.00\n",
      "Episode 8\tAverage Score: 38.00\tScore: 39.21 eps 0.00\n",
      "Episode 9\tAverage Score: 38.16\tScore: 39.43 eps 0.00\n",
      "Episode 10\tAverage Score: 37.07\tScore: 27.26 eps 0.00\n",
      "Episode 11\tAverage Score: 37.26\tScore: 39.17 eps 0.00\n",
      "Episode 12\tAverage Score: 37.45\tScore: 39.55 eps 0.00\n",
      "Episode 13\tAverage Score: 36.79\tScore: 28.90 eps 0.00\n",
      "Episode 14\tAverage Score: 36.69\tScore: 35.42 eps 0.00\n",
      "Episode 15\tAverage Score: 36.89\tScore: 39.67 eps 0.00\n",
      "Episode 16\tAverage Score: 36.80\tScore: 35.44 eps 0.00\n",
      "Episode 17\tAverage Score: 36.37\tScore: 29.40 eps 0.00\n",
      "Episode 18\tAverage Score: 36.54\tScore: 39.44 eps 0.00\n",
      "Episode 19\tAverage Score: 36.67\tScore: 39.16 eps 0.00\n",
      "Episode 20\tAverage Score: 36.81\tScore: 39.42 eps 0.00\n",
      "Episode 21\tAverage Score: 36.94\tScore: 39.43 eps 0.00\n",
      "Episode 22\tAverage Score: 37.05\tScore: 39.38 eps 0.00\n",
      "Episode 23\tAverage Score: 36.82\tScore: 31.75 eps 0.00\n",
      "Episode 24\tAverage Score: 36.93\tScore: 39.64 eps 0.00\n",
      "Episode 25\tAverage Score: 36.66\tScore: 30.01 eps 0.00\n",
      "Episode 26\tAverage Score: 36.75\tScore: 39.08 eps 0.00\n",
      "Episode 27\tAverage Score: 36.85\tScore: 39.53 eps 0.00\n",
      "Episode 28\tAverage Score: 36.92\tScore: 38.62 eps 0.00\n",
      "Episode 29\tAverage Score: 36.99\tScore: 38.97 eps 0.00\n",
      "Episode 30\tAverage Score: 37.07\tScore: 39.61 eps 0.00\n",
      "Episode 31\tAverage Score: 37.16\tScore: 39.67 eps 0.00\n",
      "Episode 32\tAverage Score: 37.20\tScore: 38.59 eps 0.00\n",
      "Episode 33\tAverage Score: 37.27\tScore: 39.50 eps 0.00\n",
      "Episode 34\tAverage Score: 37.33\tScore: 39.19 eps 0.00\n",
      "Episode 35\tAverage Score: 37.39\tScore: 39.46 eps 0.00\n",
      "Episode 36\tAverage Score: 37.42\tScore: 38.42 eps 0.00\n",
      "Episode 37\tAverage Score: 37.48\tScore: 39.66 eps 0.00\n",
      "Episode 38\tAverage Score: 37.53\tScore: 39.56 eps 0.00\n",
      "Episode 39\tAverage Score: 37.57\tScore: 38.89 eps 0.00\n",
      "Episode 40\tAverage Score: 37.61\tScore: 39.37 eps 0.00\n",
      "Episode 41\tAverage Score: 37.66\tScore: 39.68 eps 0.00\n",
      "Episode 42\tAverage Score: 37.70\tScore: 39.12 eps 0.00\n",
      "Episode 43\tAverage Score: 37.70\tScore: 37.63 eps 0.00\n",
      "Episode 44\tAverage Score: 37.74\tScore: 39.43 eps 0.00\n",
      "Episode 45\tAverage Score: 37.78\tScore: 39.46 eps 0.00\n",
      "Episode 46\tAverage Score: 37.79\tScore: 38.35 eps 0.00\n",
      "Episode 47\tAverage Score: 37.83\tScore: 39.60 eps 0.00\n",
      "Episode 48\tAverage Score: 37.85\tScore: 39.00 eps 0.00\n",
      "Episode 49\tAverage Score: 37.66\tScore: 28.69 eps 0.00\n",
      "Episode 50\tAverage Score: 37.70\tScore: 39.42 eps 0.00\n",
      "Episode 51\tAverage Score: 37.73\tScore: 39.47 eps 0.00\n",
      "Episode 52\tAverage Score: 37.77\tScore: 39.46 eps 0.00\n",
      "Episode 53\tAverage Score: 37.80\tScore: 39.49 eps 0.00\n",
      "Episode 54\tAverage Score: 37.67\tScore: 30.99 eps 0.00\n",
      "Episode 55\tAverage Score: 37.71\tScore: 39.62 eps 0.00\n",
      "Episode 56\tAverage Score: 37.74\tScore: 39.28 eps 0.00\n",
      "Episode 57\tAverage Score: 37.76\tScore: 38.83 eps 0.00\n",
      "Episode 58\tAverage Score: 37.79\tScore: 39.47 eps 0.00\n",
      "Episode 59\tAverage Score: 37.81\tScore: 39.04 eps 0.00\n",
      "Episode 60\tAverage Score: 37.82\tScore: 38.46 eps 0.00\n",
      "Episode 61\tAverage Score: 37.83\tScore: 38.87 eps 0.00\n",
      "Episode 62\tAverage Score: 37.86\tScore: 39.50 eps 0.00\n",
      "Episode 63\tAverage Score: 37.89\tScore: 39.62 eps 0.00\n",
      "Episode 64\tAverage Score: 37.90\tScore: 38.88 eps 0.00\n",
      "Episode 65\tAverage Score: 37.93\tScore: 39.55 eps 0.00\n",
      "Episode 66\tAverage Score: 37.95\tScore: 39.45 eps 0.00\n",
      "Episode 67\tAverage Score: 37.98\tScore: 39.44 eps 0.00\n",
      "Episode 68\tAverage Score: 38.00\tScore: 39.39 eps 0.00\n",
      "Episode 69\tAverage Score: 38.02\tScore: 39.43 eps 0.00\n",
      "Episode 70\tAverage Score: 38.04\tScore: 39.48 eps 0.00\n",
      "Episode 71\tAverage Score: 38.06\tScore: 39.45 eps 0.00\n",
      "Episode 72\tAverage Score: 38.05\tScore: 37.85 eps 0.00\n",
      "Episode 73\tAverage Score: 38.08\tScore: 39.62 eps 0.00\n",
      "Episode 74\tAverage Score: 38.09\tScore: 38.94 eps 0.00\n",
      "Episode 75\tAverage Score: 38.09\tScore: 38.30 eps 0.00\n",
      "Episode 76\tAverage Score: 38.07\tScore: 36.18 eps 0.00\n",
      "Episode 77\tAverage Score: 38.08\tScore: 39.24 eps 0.00\n",
      "Episode 78\tAverage Score: 38.04\tScore: 34.88 eps 0.00\n",
      "Episode 79\tAverage Score: 37.92\tScore: 28.78 eps 0.00\n",
      "Episode 80\tAverage Score: 37.94\tScore: 39.02 eps 0.00\n",
      "Episode 81\tAverage Score: 37.96\tScore: 39.63 eps 0.00\n",
      "Episode 82\tAverage Score: 37.97\tScore: 39.14 eps 0.00\n",
      "Episode 83\tAverage Score: 37.96\tScore: 37.11 eps 0.00\n",
      "Episode 84\tAverage Score: 37.98\tScore: 39.55 eps 0.00\n",
      "Episode 85\tAverage Score: 38.00\tScore: 39.39 eps 0.00\n",
      "Episode 86\tAverage Score: 38.02\tScore: 39.67 eps 0.00\n",
      "Episode 87\tAverage Score: 38.03\tScore: 39.63 eps 0.00\n",
      "Episode 88\tAverage Score: 38.03\tScore: 37.59 eps 0.00\n",
      "Episode 89\tAverage Score: 38.04\tScore: 38.68 eps 0.00\n",
      "Episode 90\tAverage Score: 38.05\tScore: 39.38 eps 0.00\n",
      "Episode 91\tAverage Score: 38.07\tScore: 39.43 eps 0.00\n",
      "Episode 92\tAverage Score: 38.06\tScore: 37.68 eps 0.00\n",
      "Episode 93\tAverage Score: 38.07\tScore: 39.14 eps 0.00\n",
      "Episode 94\tAverage Score: 38.07\tScore: 38.03 eps 0.00\n",
      "Episode 95\tAverage Score: 38.09\tScore: 39.47 eps 0.00\n",
      "Episode 96\tAverage Score: 38.11\tScore: 39.65 eps 0.00\n",
      "Episode 97\tAverage Score: 38.12\tScore: 39.28 eps 0.00\n",
      "Episode 98\tAverage Score: 38.11\tScore: 37.51 eps 0.00\n",
      "Episode 99\tAverage Score: 38.12\tScore: 39.00 eps 0.00\n",
      "Episode 100\tAverage Score: 38.13\tScore: 39.51 eps 0.00\n"
     ]
    }
   ],
   "source": [
    "import torch\n",
    "from ddpg_agent import Agent\n",
    "from ddpg_loop import ddpg\n",
    "actor_path='checkpoints/ddpg/214_checkpoint_actor_agents_1_solved.pth'\n",
    "critic_path='checkpoints/ddpg/214_checkpoint_critic_agents_1_solved.pth'\n",
    "\n",
    "agent_eval = Agent(state_size=state_size, action_size=action_size, random_seed=0)\n",
    "agent_eval.actor_local.load_state_dict(torch.load(actor_path))\n",
    "agent_eval.critic_local.load_state_dict(torch.load(critic_path))\n",
    "scores_eval_checkpoint = ddpg(env, agent_eval,train_mode=False,update_network=False,n_episodes=100, score_list_len=100)"
   ]
  },
  {
   "cell_type": "code",
   "execution_count": 7,
   "metadata": {},
   "outputs": [
    {
     "data": {
      "image/png": "[encoded data removed]",
      "text/plain": [
       "<Figure size 432x288 with 1 Axes>"
      ]
     },
     "metadata": {
      "needs_background": "light"
     },
     "output_type": "display_data"
    }
   ],
   "source": [
    "from main import plot_results\n",
    "plot_results(scores_eval_checkpoint)"
   ]
  },
  {
   "cell_type": "code",
   "execution_count": 8,
   "metadata": {},
   "outputs": [],
   "source": [
    "env.close()"
   ]
  },
  {
   "cell_type": "code",
   "execution_count": null,
   "metadata": {},
   "outputs": [],
   "source": []
  }
 ],
 "metadata": {
  "kernelspec": {
   "display_name": "Python 3",
   "language": "python",
   "name": "python3"
  },
  "language_info": {
   "codemirror_mode": {
    "name": "ipython",
    "version": 3
   },
   "file_extension": ".py",
   "mimetype": "text/x-python",
   "name": "python",
   "nbconvert_exporter": "python",
   "pygments_lexer": "ipython3",
   "version": "3.6.13"
  }
 },
 "nbformat": 4,
 "nbformat_minor": 2
}
