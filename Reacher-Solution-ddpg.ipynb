{
 "cells": [
  {
   "cell_type": "markdown",
   "metadata": {},
   "source": [
    "# Continuous Control\n",
    "\n",
    "---\n",
    "\n",
    "In this notebook, you will learn how to use the Unity ML-Agents environment for the second project of the [Deep Reinforcement Learning Nanodegree](https://www.udacity.com/course/deep-reinforcement-learning-nanodegree--nd893) program.\n",
    "\n",
    "### 1. Start the Environment\n",
    "\n",
    "We begin by importing the necessary packages.  If the code cell below returns an error, please revisit the project instructions to double-check that you have installed [Unity ML-Agents](https://github.com/Unity-Technologies/ml-agents/blob/master/docs/Installation.md) and [NumPy](http://www.numpy.org/)."
   ]
  },
  {
   "cell_type": "code",
   "execution_count": 1,
   "metadata": {},
   "outputs": [],
   "source": [
    "from unityagents import UnityEnvironment\n",
    "import numpy as np"
   ]
  },
  {
   "cell_type": "markdown",
   "metadata": {},
   "source": [
    "Next, we will start the environment!  **_Before running the code cell below_**, change the `file_name` parameter to match the location of the Unity environment that you downloaded.\n",
    "\n",
    "- **Mac**: `\"path/to/Reacher.app\"`\n",
    "- **Windows** (x86): `\"path/to/Reacher_Windows_x86/Reacher.exe\"`\n",
    "- **Windows** (x86_64): `\"path/to/Reacher_Windows_x86_64/Reacher.exe\"`\n",
    "- **Linux** (x86): `\"path/to/Reacher_Linux/Reacher.x86\"`\n",
    "- **Linux** (x86_64): `\"path/to/Reacher_Linux/Reacher.x86_64\"`\n",
    "- **Linux** (x86, headless): `\"path/to/Reacher_Linux_NoVis/Reacher.x86\"`\n",
    "- **Linux** (x86_64, headless): `\"path/to/Reacher_Linux_NoVis/Reacher.x86_64\"`\n",
    "\n",
    "For instance, if you are using a Mac, then you downloaded `Reacher.app`.  If this file is in the same folder as the notebook, then the line below should appear as follows:\n",
    "```\n",
    "env = UnityEnvironment(file_name=\"Reacher.app\")\n",
    "```"
   ]
  },
  {
   "cell_type": "code",
   "execution_count": 2,
   "metadata": {},
   "outputs": [
    {
     "name": "stderr",
     "output_type": "stream",
     "text": [
      "INFO:unityagents:\n",
      "'Academy' started successfully!\n",
      "Unity Academy name: Academy\n",
      "        Number of Brains: 1\n",
      "        Number of External Brains : 1\n",
      "        Lesson number : 0\n",
      "        Reset Parameters :\n",
      "\t\tgoal_speed -> 1.0\n",
      "\t\tgoal_size -> 5.0\n",
      "Unity brain name: ReacherBrain\n",
      "        Number of Visual Observations (per agent): 0\n",
      "        Vector Observation space type: continuous\n",
      "        Vector Observation space size (per agent): 33\n",
      "        Number of stacked Vector Observation: 1\n",
      "        Vector Action space type: continuous\n",
      "        Vector Action space size (per agent): 4\n",
      "        Vector Action descriptions: , , , \n"
     ]
    }
   ],
   "source": [
    "env = UnityEnvironment(file_name='./Reacher_Linux20/Reacher.x86_64')"
   ]
  },
  {
   "cell_type": "markdown",
   "metadata": {},
   "source": [
    "Environments contain **_brains_** which are responsible for deciding the actions of their associated agents. Here we check for the first brain available, and set it as the default brain we will be controlling from Python."
   ]
  },
  {
   "cell_type": "code",
   "execution_count": 3,
   "metadata": {},
   "outputs": [],
   "source": [
    "# get the default brain\n",
    "brain_name = env.brain_names[0]\n",
    "brain = env.brains[brain_name]"
   ]
  },
  {
   "cell_type": "markdown",
   "metadata": {},
   "source": [
    "### 2. Examine the State and Action Spaces\n",
    "\n",
    "In this environment, a double-jointed arm can move to target locations. A reward of `+0.1` is provided for each step that the agent's hand is in the goal location. Thus, the goal of your agent is to maintain its position at the target location for as many time steps as possible.\n",
    "\n",
    "The observation space consists of `33` variables corresponding to position, rotation, velocity, and angular velocities of the arm.  Each action is a vector with four numbers, corresponding to torque applicable to two joints.  Every entry in the action vector must be a number between `-1` and `1`.\n",
    "\n",
    "Run the code cell below to print some information about the environment."
   ]
  },
  {
   "cell_type": "code",
   "execution_count": 4,
   "metadata": {},
   "outputs": [
    {
     "name": "stdout",
     "output_type": "stream",
     "text": [
      "Number of agents: 20\n",
      "Size of each action: 4\n",
      "There are 20 agents. Each observes a state with length: 33\n",
      "The state for the first agent looks like: [ 0.00000000e+00 -4.00000000e+00  0.00000000e+00  1.00000000e+00\n",
      " -0.00000000e+00 -0.00000000e+00 -4.37113883e-08  0.00000000e+00\n",
      "  0.00000000e+00  0.00000000e+00  0.00000000e+00  0.00000000e+00\n",
      "  0.00000000e+00  0.00000000e+00 -1.00000000e+01  0.00000000e+00\n",
      "  1.00000000e+00 -0.00000000e+00 -0.00000000e+00 -4.37113883e-08\n",
      "  0.00000000e+00  0.00000000e+00  0.00000000e+00  0.00000000e+00\n",
      "  0.00000000e+00  0.00000000e+00  5.75471878e+00 -1.00000000e+00\n",
      "  5.55726624e+00  0.00000000e+00  1.00000000e+00  0.00000000e+00\n",
      " -1.68164849e-01]\n"
     ]
    }
   ],
   "source": [
    "# reset the environment\n",
    "env_info = env.reset(train_mode=True)[brain_name]\n",
    "\n",
    "# number of agents\n",
    "num_agents = len(env_info.agents)\n",
    "print('Number of agents:', num_agents)\n",
    "\n",
    "# size of each action\n",
    "action_size = brain.vector_action_space_size\n",
    "print('Size of each action:', action_size)\n",
    "\n",
    "# examine the state space \n",
    "states = env_info.vector_observations\n",
    "state_size = states.shape[1]\n",
    "print('There are {} agents. Each observes a state with length: {}'.format(states.shape[0], state_size))\n",
    "print('The state for the first agent looks like:', states[0])"
   ]
  },
  {
   "cell_type": "markdown",
   "metadata": {},
   "source": [
    "### 3. Solution"
   ]
  },
  {
   "cell_type": "code",
   "execution_count": 5,
   "metadata": {},
   "outputs": [
    {
     "name": "stdout",
     "output_type": "stream",
     "text": [
      "Episode 10\tAverage Score: 0.63\tScore: 1.43 eps 0.99\n",
      "Episode 20\tAverage Score: 1.66\tScore: 3.47 eps 0.98\n",
      "Episode 30\tAverage Score: 3.28\tScore: 7.70 eps 0.97\n",
      "Episode 40\tAverage Score: 5.54\tScore: 14.13 eps 0.96\n",
      "Episode 50\tAverage Score: 7.91\tScore: 19.28 eps 0.95\n",
      "Episode 60\tAverage Score: 10.42\tScore: 26.89 eps 0.94\n",
      "Episode 70\tAverage Score: 13.14\tScore: 31.01 eps 0.93\n",
      "Episode 80\tAverage Score: 15.54\tScore: 33.03 eps 0.92\n",
      "Episode 90\tAverage Score: 17.60\tScore: 33.55 eps 0.91\n",
      "Episode 100\tAverage Score: 19.44\tScore: 36.97 eps 0.90\n",
      "Episode 110\tAverage Score: 23.08\tScore: 37.47 eps 0.90\n",
      "Episode 120\tAverage Score: 26.56\tScore: 37.15 eps 0.89\n",
      "Episode 130\tAverage Score: 29.62\tScore: 36.76 eps 0.88\n",
      "Episode 132\tAverage Score: 30.18\tScore: 38.16 eps 0.88\n",
      "Environment solved in 32 episodes!\tAverage Score: 30.18\n"
     ]
    },
    {
     "data": {
      "image/png": "[encoded data removed]",
      "text/plain": [
       "<Figure size 432x288 with 1 Axes>"
      ]
     },
     "metadata": {
      "needs_background": "light"
     },
     "output_type": "display_data"
    }
   ],
   "source": [
    "from main import setup, run_ddpg, eval_ddpg\n",
    "\n",
    "#env, state_size, action_size = setup()\n",
    "#print_demo(env, action_size)\n",
    "scores = run_ddpg(env, state_size, action_size)"
   ]
  },
  {
   "cell_type": "markdown",
   "metadata": {},
   "source": [
    "When finished, you can close the environment."
   ]
  },
  {
   "cell_type": "code",
   "execution_count": null,
   "metadata": {},
   "outputs": [],
   "source": [
    "# import matplotlib.pyplot as plt\n",
    "# fig = plt.figure()\n",
    "# ax = fig.add_subplot(111)\n",
    "# plt.plot(np.arange(1, len(scores)+1), scores)\n",
    "# plt.ylabel('Score')\n",
    "# plt.xlabel('Episode #')\n",
    "# plt.show()"
   ]
  },
  {
   "cell_type": "code",
   "execution_count": 5,
   "metadata": {},
   "outputs": [
    {
     "name": "stdout",
     "output_type": "stream",
     "text": [
      "Episode 10\tAverage Score: 39.49\tScore: 39.57 eps 0.00\n",
      "Episode 20\tAverage Score: 39.46\tScore: 39.33 eps 0.00\n",
      "Episode 30\tAverage Score: 39.45\tScore: 39.36 eps 0.00\n",
      "Episode 40\tAverage Score: 39.45\tScore: 39.33 eps 0.00\n",
      "Episode 50\tAverage Score: 39.44\tScore: 39.39 eps 0.00\n",
      "Episode 60\tAverage Score: 39.45\tScore: 39.35 eps 0.00\n",
      "Episode 70\tAverage Score: 39.45\tScore: 39.57 eps 0.00\n",
      "Episode 80\tAverage Score: 39.45\tScore: 39.55 eps 0.00\n",
      "Episode 90\tAverage Score: 39.45\tScore: 39.46 eps 0.00\n",
      "Episode 100\tAverage Score: 39.45\tScore: 39.51 eps 0.00\n"
     ]
    },
    {
     "data": {
      "text/plain": [
       "[39.51149911684915,\n",
       " 39.51599911674858,\n",
       " 39.5469991160557,\n",
       " 39.503999117016804,\n",
       " 39.45349911814557,\n",
       " 39.53549911631271,\n",
       " 39.50749911693857,\n",
       " 39.33499912079429,\n",
       " 39.47049911776559,\n",
       " 39.56799911558628,\n",
       " 39.55549911586568,\n",
       " 39.5539991158992,\n",
       " 39.43649911852556,\n",
       " 39.50649911696091,\n",
       " 39.47699911762032,\n",
       " 39.25549912257129,\n",
       " 39.31849912116314,\n",
       " 39.23099912311891,\n",
       " 39.54849911602215,\n",
       " 39.32699912097313,\n",
       " 39.40949911912909,\n",
       " 39.49649911718444,\n",
       " 39.424499118793754,\n",
       " 39.3969991194085,\n",
       " 39.34849912049258,\n",
       " 39.35899912025782,\n",
       " 39.38449911968795,\n",
       " 39.513499116804454,\n",
       " 39.58649911517277,\n",
       " 39.36049912022429,\n",
       " 39.590999115072194,\n",
       " 39.54599911607804,\n",
       " 39.427999118715555,\n",
       " 39.46249911794439,\n",
       " 39.432499118615,\n",
       " 39.38949911957605,\n",
       " 39.44999911822383,\n",
       " 39.36049912022433,\n",
       " 39.39749911939727,\n",
       " 39.33449912080548,\n",
       " 39.58249911526218,\n",
       " 39.387499119620784,\n",
       " 39.49299911726266,\n",
       " 39.24099912289536,\n",
       " 39.33149912087255,\n",
       " 39.408999119140205,\n",
       " 39.542999116145076,\n",
       " 39.328999120928444,\n",
       " 39.553499115910384,\n",
       " 39.39199911952019,\n",
       " 39.501999117061516,\n",
       " 39.482499117497355,\n",
       " 39.51249911682682,\n",
       " 39.43449911857027,\n",
       " 39.553499115910384,\n",
       " 39.55449911588803,\n",
       " 39.32849912093954,\n",
       " 39.47749911760911,\n",
       " 39.4624991179444,\n",
       " 39.3474991205149,\n",
       " 39.48049911754208,\n",
       " 39.496499117184456,\n",
       " 39.42499911878261,\n",
       " 39.43049911865964,\n",
       " 39.55649911584334,\n",
       " 39.52449911655859,\n",
       " 39.560999115742746,\n",
       " 39.173499124404174,\n",
       " 39.34399912059318,\n",
       " 39.5704991155304,\n",
       " 39.537999116256834,\n",
       " 39.42349911881609,\n",
       " 39.504999116994455,\n",
       " 39.482499117497355,\n",
       " 39.318499121163086,\n",
       " 39.48299911748619,\n",
       " 39.492499117273866,\n",
       " 39.51199911683797,\n",
       " 39.475999117642644,\n",
       " 39.55499911587685,\n",
       " 39.42299911882732,\n",
       " 39.26899912226948,\n",
       " 39.46549911787735,\n",
       " 39.48599911741917,\n",
       " 39.30999912135305,\n",
       " 39.32649912098428,\n",
       " 39.56349911568687,\n",
       " 39.49049911731855,\n",
       " 39.357499120291365,\n",
       " 39.4564991180785,\n",
       " 39.38199911974373,\n",
       " 39.443499118369076,\n",
       " 39.45249911816791,\n",
       " 39.509499116893856,\n",
       " 39.42799911871552,\n",
       " 39.50949911689386,\n",
       " 39.443499118369076,\n",
       " 39.558499115798625,\n",
       " 39.40499911922967,\n",
       " 39.50699911694977]"
      ]
     },
     "execution_count": 5,
     "metadata": {},
     "output_type": "execute_result"
    }
   ],
   "source": [
    "from main import eval_ddpg\n",
    "scores = eval_ddpg(env, state_size, action_size,\n",
    "              actor_path='checkpoints/ddpg/132_checkpoint_actor_solved.pth',\n",
    "              critic_path='checkpoints/ddpg/132_checkpoint_critic_solved.pth',\n",
    "                 )"
   ]
  },
  {
   "cell_type": "code",
   "execution_count": 6,
   "metadata": {},
   "outputs": [],
   "source": [
    "scores= [39.51149911684915,\n",
    " 39.51599911674858,\n",
    " 39.5469991160557,\n",
    " 39.503999117016804,\n",
    " 39.45349911814557,\n",
    " 39.53549911631271,\n",
    " 39.50749911693857,\n",
    " 39.33499912079429,\n",
    " 39.47049911776559,\n",
    " 39.56799911558628,\n",
    " 39.55549911586568,\n",
    " 39.5539991158992,\n",
    " 39.43649911852556,\n",
    " 39.50649911696091,\n",
    " 39.47699911762032,\n",
    " 39.25549912257129,\n",
    " 39.31849912116314,\n",
    " 39.23099912311891,\n",
    " 39.54849911602215,\n",
    " 39.32699912097313,\n",
    " 39.40949911912909,\n",
    " 39.49649911718444,\n",
    " 39.424499118793754,\n",
    " 39.3969991194085,\n",
    " 39.34849912049258,\n",
    " 39.35899912025782,\n",
    " 39.38449911968795,\n",
    " 39.513499116804454,\n",
    " 39.58649911517277,\n",
    " 39.36049912022429,\n",
    " 39.590999115072194,\n",
    " 39.54599911607804,\n",
    " 39.427999118715555,\n",
    " 39.46249911794439,\n",
    " 39.432499118615,\n",
    " 39.38949911957605,\n",
    " 39.44999911822383,\n",
    " 39.36049912022433,\n",
    " 39.39749911939727,\n",
    " 39.33449912080548,\n",
    " 39.58249911526218,\n",
    " 39.387499119620784,\n",
    " 39.49299911726266,\n",
    " 39.24099912289536,\n",
    " 39.33149912087255,\n",
    " 39.408999119140205,\n",
    " 39.542999116145076,\n",
    " 39.328999120928444,\n",
    " 39.553499115910384,\n",
    " 39.39199911952019,\n",
    " 39.501999117061516,\n",
    " 39.482499117497355,\n",
    " 39.51249911682682,\n",
    " 39.43449911857027,\n",
    " 39.553499115910384,\n",
    " 39.55449911588803,\n",
    " 39.32849912093954,\n",
    " 39.47749911760911,\n",
    " 39.4624991179444,\n",
    " 39.3474991205149,\n",
    " 39.48049911754208,\n",
    " 39.496499117184456,\n",
    " 39.42499911878261,\n",
    " 39.43049911865964,\n",
    " 39.55649911584334,\n",
    " 39.52449911655859,\n",
    " 39.560999115742746,\n",
    " 39.173499124404174,\n",
    " 39.34399912059318,\n",
    " 39.5704991155304,\n",
    " 39.537999116256834,\n",
    " 39.42349911881609,\n",
    " 39.504999116994455,\n",
    " 39.482499117497355,\n",
    " 39.318499121163086,\n",
    " 39.48299911748619,\n",
    " 39.492499117273866,\n",
    " 39.51199911683797,\n",
    " 39.475999117642644,\n",
    " 39.55499911587685,\n",
    " 39.42299911882732,\n",
    " 39.26899912226948,\n",
    " 39.46549911787735,\n",
    " 39.48599911741917,\n",
    " 39.30999912135305,\n",
    " 39.32649912098428,\n",
    " 39.56349911568687,\n",
    " 39.49049911731855,\n",
    " 39.357499120291365,\n",
    " 39.4564991180785,\n",
    " 39.38199911974373,\n",
    " 39.443499118369076,\n",
    " 39.45249911816791,\n",
    " 39.509499116893856,\n",
    " 39.42799911871552,\n",
    " 39.50949911689386,\n",
    " 39.443499118369076,\n",
    " 39.558499115798625,\n",
    " 39.40499911922967,\n",
    " 39.50699911694977]"
   ]
  },
  {
   "cell_type": "code",
   "execution_count": 7,
   "metadata": {},
   "outputs": [
    {
     "data": {
      "image/png": "[encoded data removed]",
      "text/plain": [
       "<Figure size 432x288 with 1 Axes>"
      ]
     },
     "metadata": {
      "needs_background": "light"
     },
     "output_type": "display_data"
    }
   ],
   "source": [
    "from main import plot_results\n",
    "plot_results(scores)"
   ]
  },
  {
   "cell_type": "code",
   "execution_count": 8,
   "metadata": {},
   "outputs": [],
   "source": [
    "env.close()"
   ]
  }
 ],
 "metadata": {
  "kernelspec": {
   "display_name": "Python 3",
   "language": "python",
   "name": "python3"
  },
  "language_info": {
   "codemirror_mode": {
    "name": "ipython",
    "version": 3
   },
   "file_extension": ".py",
   "mimetype": "text/x-python",
   "name": "python",
   "nbconvert_exporter": "python",
   "pygments_lexer": "ipython3",
   "version": "3.6.13"
  }
 },
 "nbformat": 4,
 "nbformat_minor": 2
}
